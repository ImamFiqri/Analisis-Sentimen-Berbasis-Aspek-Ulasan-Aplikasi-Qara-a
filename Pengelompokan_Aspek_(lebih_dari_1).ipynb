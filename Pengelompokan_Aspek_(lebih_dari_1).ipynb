{
  "nbformat": 4,
  "nbformat_minor": 0,
  "metadata": {
    "colab": {
      "provenance": []
    },
    "kernelspec": {
      "name": "python3",
      "display_name": "Python 3"
    },
    "language_info": {
      "name": "python"
    }
  },
  "cells": [
    {
      "cell_type": "code",
      "execution_count": null,
      "metadata": {
        "id": "spRcEHR6-VHL"
      },
      "outputs": [],
      "source": [
        "import spacy\n",
        "import pandas as pd\n",
        "\n",
        "# Muat model spaCy\n",
        "nlp = spacy.load(\"en_core_web_sm\")  # Ganti model jika menggunakan bahasa lain\n",
        "\n",
        "# Baca data ulasan dari file CSV\n",
        "file_path = \"Data ulasan.csv\"\n",
        "data = pd.read_csv(file_path)\n",
        "\n",
        "# Kamus aspek baru\n",
        "aspects_dict = {\n",
        "    \"Fitur\": [\"fitur\", \"fungsi\", \"tajwid\", \"Al-Qur'an\", \"belajar\"],\n",
        "    \"Pelayanan\": [\"respons\", \"layanan\", \"customer\", \"bantuan\"],\n",
        "    \"Pengalaman\": [\"bug\", \"error\", \"lambat\", \"cepat\", \"mudah\", \"sulit\"],\n",
        "    \"Religiusitas\": [\"alhamdulillah\", \"iman\", \"ibadah\", \"syukur\"],\n",
        "    \"General\": [\"berguna\", \"bantu\", \"menarik\", \"praktis\", \"desain\", \"grafik\", \"tampilan\"],\n",
        "}\n",
        "\n",
        "# Fungsi untuk identifikasi aspek\n",
        "def identify_aspects_with_spacy(text, aspects_dict):\n",
        "    doc = nlp(text.lower())\n",
        "    identified_aspects = []\n",
        "    for aspect, keywords in aspects_dict.items():\n",
        "        for token in doc:\n",
        "            if token.text in keywords:\n",
        "                if aspect not in identified_aspects:  # Hindari duplikasi\n",
        "                    identified_aspects.append(aspect)\n",
        "    return identified_aspects\n",
        "\n",
        "# Proses setiap ulasan dalam data\n",
        "results = []\n",
        "for index, row in data.iterrows():\n",
        "    review = row[\"ulasan\"]  # Sesuaikan nama kolom dengan file CSV Anda\n",
        "    aspects = identify_aspects_with_spacy(review, aspects_dict)\n",
        "    results.append({\"Ulasan\": review, \"Aspek Teridentifikasi\": aspects})\n",
        "\n",
        "# Simpan hasil ke file baru (opsional)\n",
        "output_path = \"Hasil Identifikasi Aspek.csv\"\n",
        "output_df = pd.DataFrame(results)\n",
        "output_df.to_csv(output_path, index=False)\n",
        "\n",
        "# Tampilkan hasil\n",
        "for result in results:\n",
        "    print(f\"Ulasan: {result['Ulasan']}\")\n",
        "    print(f\"Aspek Teridentifikasi: {result['Aspek Teridentifikasi']}\")\n",
        "    print(\"-\" * 20)"
      ]
    }
  ]
}